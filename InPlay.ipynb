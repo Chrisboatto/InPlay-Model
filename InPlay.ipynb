{
 "cells": [
  {
   "cell_type": "markdown",
   "metadata": {},
   "source": [
    "## Batted Ball In Play Predictive Model"
   ]
  },
  {
   "cell_type": "markdown",
   "metadata": {
    "tags": []
   },
   "source": [
    "Import Libraries"
   ]
  },
  {
   "cell_type": "code",
   "execution_count": 6,
   "metadata": {},
   "outputs": [],
   "source": [
    "import pandas as pd\n",
    "import numpy as np\n",
    "from matplotlib import pyplot\n",
    "import matplotlib.pyplot as plt\n",
    "import seaborn as sns\n",
    "import sys\n",
    "import xgboost as xgb\n",
    "import sklearn\n",
    "\n",
    "from sklearn.preprocessing import LabelEncoder\n",
    "from sklearn.model_selection import train_test_split\n",
    "from sklearn.metrics import confusion_matrix, mean_squared_error, average_precision_score, roc_curve, auc, recall_score, precision_score, accuracy_score, roc_auc_score\n",
    "from sklearn.feature_selection import VarianceThreshold\n",
    "from sklearn.linear_model import LogisticRegression\n",
    "from sklearn.ensemble import RandomForestClassifier, RandomForestRegressor\n",
    "from sklearn.tree import DecisionTreeClassifier\n",
    "from sklearn.model_selection import cross_val_score\n",
    "from sklearn.datasets import make_classification\n",
    "from sklearn.inspection import permutation_importance\n",
    "from sklearn import datasets, metrics, model_selection, svm\n",
    "from xgboost import plot_importance, XGBClassifier\n",
    "from pandas import DataFrame"
   ]
  },
  {
   "cell_type": "markdown",
   "metadata": {},
   "source": [
    "# Import the Data Sets"
   ]
  },
  {
   "cell_type": "code",
   "execution_count": 55,
   "metadata": {},
   "outputs": [],
   "source": [
    "inplaytraining = pd.read_csv(r'C:\\Users\\cboat\\OneDrive\\Documents\\In Play Prediction\\training.csv')\n",
    "inplaydeploy = pd.read_csv(r'C:\\Users\\cboat\\OneDrive\\Documents\\In Play Prediction\\deploy.csv')"
   ]
  },
  {
   "cell_type": "markdown",
   "metadata": {},
   "source": [
    "# Checking Structure and Summary of the Training Data"
   ]
  },
  {
   "cell_type": "markdown",
   "metadata": {},
   "source": [
    "I check the structure and summary of the data to get an understsanding of it. I then removed any missing values within the data set."
   ]
  },
  {
   "cell_type": "code",
   "execution_count": 8,
   "metadata": {},
   "outputs": [
    {
     "data": {
      "text/html": [
       "<div>\n",
       "<style scoped>\n",
       "    .dataframe tbody tr th:only-of-type {\n",
       "        vertical-align: middle;\n",
       "    }\n",
       "\n",
       "    .dataframe tbody tr th {\n",
       "        vertical-align: top;\n",
       "    }\n",
       "\n",
       "    .dataframe thead th {\n",
       "        text-align: right;\n",
       "    }\n",
       "</style>\n",
       "<table border=\"1\" class=\"dataframe\">\n",
       "  <thead>\n",
       "    <tr style=\"text-align: right;\">\n",
       "      <th></th>\n",
       "      <th>InPlay</th>\n",
       "      <th>Velo</th>\n",
       "      <th>SpinRate</th>\n",
       "      <th>HorzBreak</th>\n",
       "      <th>InducedVertBreak</th>\n",
       "    </tr>\n",
       "  </thead>\n",
       "  <tbody>\n",
       "    <tr>\n",
       "      <th>0</th>\n",
       "      <td>0</td>\n",
       "      <td>95.33</td>\n",
       "      <td>2893.0</td>\n",
       "      <td>10.68</td>\n",
       "      <td>21.33</td>\n",
       "    </tr>\n",
       "    <tr>\n",
       "      <th>1</th>\n",
       "      <td>0</td>\n",
       "      <td>94.41</td>\n",
       "      <td>2038.0</td>\n",
       "      <td>17.13</td>\n",
       "      <td>5.77</td>\n",
       "    </tr>\n",
       "    <tr>\n",
       "      <th>2</th>\n",
       "      <td>0</td>\n",
       "      <td>90.48</td>\n",
       "      <td>2183.0</td>\n",
       "      <td>6.61</td>\n",
       "      <td>15.39</td>\n",
       "    </tr>\n",
       "    <tr>\n",
       "      <th>3</th>\n",
       "      <td>0</td>\n",
       "      <td>93.04</td>\n",
       "      <td>2279.0</td>\n",
       "      <td>9.33</td>\n",
       "      <td>14.57</td>\n",
       "    </tr>\n",
       "    <tr>\n",
       "      <th>4</th>\n",
       "      <td>0</td>\n",
       "      <td>95.17</td>\n",
       "      <td>2384.0</td>\n",
       "      <td>6.99</td>\n",
       "      <td>17.62</td>\n",
       "    </tr>\n",
       "    <tr>\n",
       "      <th>5</th>\n",
       "      <td>0</td>\n",
       "      <td>95.00</td>\n",
       "      <td>2580.0</td>\n",
       "      <td>7.16</td>\n",
       "      <td>16.07</td>\n",
       "    </tr>\n",
       "    <tr>\n",
       "      <th>6</th>\n",
       "      <td>0</td>\n",
       "      <td>97.94</td>\n",
       "      <td>2376.0</td>\n",
       "      <td>12.29</td>\n",
       "      <td>18.11</td>\n",
       "    </tr>\n",
       "    <tr>\n",
       "      <th>7</th>\n",
       "      <td>0</td>\n",
       "      <td>95.42</td>\n",
       "      <td>2103.0</td>\n",
       "      <td>7.98</td>\n",
       "      <td>10.98</td>\n",
       "    </tr>\n",
       "    <tr>\n",
       "      <th>8</th>\n",
       "      <td>0</td>\n",
       "      <td>94.12</td>\n",
       "      <td>2535.0</td>\n",
       "      <td>5.68</td>\n",
       "      <td>18.59</td>\n",
       "    </tr>\n",
       "    <tr>\n",
       "      <th>9</th>\n",
       "      <td>0</td>\n",
       "      <td>93.23</td>\n",
       "      <td>2242.0</td>\n",
       "      <td>4.10</td>\n",
       "      <td>16.95</td>\n",
       "    </tr>\n",
       "  </tbody>\n",
       "</table>\n",
       "</div>"
      ],
      "text/plain": [
       "   InPlay   Velo  SpinRate  HorzBreak  InducedVertBreak\n",
       "0       0  95.33    2893.0      10.68             21.33\n",
       "1       0  94.41    2038.0      17.13              5.77\n",
       "2       0  90.48    2183.0       6.61             15.39\n",
       "3       0  93.04    2279.0       9.33             14.57\n",
       "4       0  95.17    2384.0       6.99             17.62\n",
       "5       0  95.00    2580.0       7.16             16.07\n",
       "6       0  97.94    2376.0      12.29             18.11\n",
       "7       0  95.42    2103.0       7.98             10.98\n",
       "8       0  94.12    2535.0       5.68             18.59\n",
       "9       0  93.23    2242.0       4.10             16.95"
      ]
     },
     "execution_count": 8,
     "metadata": {},
     "output_type": "execute_result"
    }
   ],
   "source": [
    "inplaytraining.head(10)"
   ]
  },
  {
   "cell_type": "code",
   "execution_count": 9,
   "metadata": {},
   "outputs": [
    {
     "name": "stdout",
     "output_type": "stream",
     "text": [
      "<class 'pandas.core.frame.DataFrame'>\n",
      "RangeIndex: 10000 entries, 0 to 9999\n",
      "Data columns (total 5 columns):\n",
      " #   Column            Non-Null Count  Dtype  \n",
      "---  ------            --------------  -----  \n",
      " 0   InPlay            10000 non-null  int64  \n",
      " 1   Velo              10000 non-null  float64\n",
      " 2   SpinRate          9994 non-null   float64\n",
      " 3   HorzBreak         10000 non-null  float64\n",
      " 4   InducedVertBreak  10000 non-null  float64\n",
      "dtypes: float64(4), int64(1)\n",
      "memory usage: 390.8 KB\n"
     ]
    }
   ],
   "source": [
    "inplaytraining.info()"
   ]
  },
  {
   "cell_type": "code",
   "execution_count": 10,
   "metadata": {},
   "outputs": [
    {
     "data": {
      "text/plain": [
       "InPlay                int64\n",
       "Velo                float64\n",
       "SpinRate            float64\n",
       "HorzBreak           float64\n",
       "InducedVertBreak    float64\n",
       "dtype: object"
      ]
     },
     "execution_count": 10,
     "metadata": {},
     "output_type": "execute_result"
    }
   ],
   "source": [
    "inplaytraining.dtypes"
   ]
  },
  {
   "cell_type": "markdown",
   "metadata": {},
   "source": [
    "Reviewing and Removing Missing Values from the Data set"
   ]
  },
  {
   "cell_type": "code",
   "execution_count": 11,
   "metadata": {},
   "outputs": [
    {
     "data": {
      "text/plain": [
       "InPlay              0\n",
       "Velo                0\n",
       "SpinRate            6\n",
       "HorzBreak           0\n",
       "InducedVertBreak    0\n",
       "dtype: int64"
      ]
     },
     "execution_count": 11,
     "metadata": {},
     "output_type": "execute_result"
    }
   ],
   "source": [
    "inplaytraining.isna().sum()"
   ]
  },
  {
   "cell_type": "code",
   "execution_count": 12,
   "metadata": {},
   "outputs": [],
   "source": [
    "inplaytraining = inplaytraining.dropna()"
   ]
  },
  {
   "cell_type": "code",
   "execution_count": 13,
   "metadata": {},
   "outputs": [
    {
     "data": {
      "text/plain": [
       "InPlay              0\n",
       "Velo                0\n",
       "SpinRate            0\n",
       "HorzBreak           0\n",
       "InducedVertBreak    0\n",
       "dtype: int64"
      ]
     },
     "execution_count": 13,
     "metadata": {},
     "output_type": "execute_result"
    }
   ],
   "source": [
    "inplaytraining.isna().sum()"
   ]
  },
  {
   "cell_type": "markdown",
   "metadata": {},
   "source": [
    "# Difference of InPlay Outcomes"
   ]
  },
  {
   "cell_type": "markdown",
   "metadata": {},
   "source": [
    "Here I checked to see the difference in the outcomes in the variable 'InPlay'. A proper predictive model needs to have an even number of outcomes between 1 and 0 in the dependent variable. If there is an outcome that occurs often, the predictive model will skew towards that outcome. There are 2.6 times the number of 0's as there are 1's. Therefore, I doubled the number of 1's within the data set by copying the rows with InPlay outcome of '1' and concatenated them to the training data set."
   ]
  },
  {
   "cell_type": "code",
   "execution_count": 14,
   "metadata": {},
   "outputs": [
    {
     "data": {
      "text/html": [
       "<div>\n",
       "<style scoped>\n",
       "    .dataframe tbody tr th:only-of-type {\n",
       "        vertical-align: middle;\n",
       "    }\n",
       "\n",
       "    .dataframe tbody tr th {\n",
       "        vertical-align: top;\n",
       "    }\n",
       "\n",
       "    .dataframe thead th {\n",
       "        text-align: right;\n",
       "    }\n",
       "</style>\n",
       "<table border=\"1\" class=\"dataframe\">\n",
       "  <thead>\n",
       "    <tr style=\"text-align: right;\">\n",
       "      <th></th>\n",
       "      <th>InPlay</th>\n",
       "      <th>Velo</th>\n",
       "      <th>SpinRate</th>\n",
       "      <th>HorzBreak</th>\n",
       "      <th>InducedVertBreak</th>\n",
       "    </tr>\n",
       "  </thead>\n",
       "  <tbody>\n",
       "    <tr>\n",
       "      <th>12</th>\n",
       "      <td>1</td>\n",
       "      <td>94.67</td>\n",
       "      <td>2357.0</td>\n",
       "      <td>12.33</td>\n",
       "      <td>12.11</td>\n",
       "    </tr>\n",
       "    <tr>\n",
       "      <th>13</th>\n",
       "      <td>1</td>\n",
       "      <td>91.51</td>\n",
       "      <td>2279.0</td>\n",
       "      <td>7.73</td>\n",
       "      <td>19.97</td>\n",
       "    </tr>\n",
       "    <tr>\n",
       "      <th>16</th>\n",
       "      <td>1</td>\n",
       "      <td>96.74</td>\n",
       "      <td>1932.0</td>\n",
       "      <td>17.59</td>\n",
       "      <td>8.85</td>\n",
       "    </tr>\n",
       "    <tr>\n",
       "      <th>20</th>\n",
       "      <td>1</td>\n",
       "      <td>95.89</td>\n",
       "      <td>2520.0</td>\n",
       "      <td>7.89</td>\n",
       "      <td>18.27</td>\n",
       "    </tr>\n",
       "    <tr>\n",
       "      <th>24</th>\n",
       "      <td>1</td>\n",
       "      <td>96.17</td>\n",
       "      <td>2034.0</td>\n",
       "      <td>18.99</td>\n",
       "      <td>4.88</td>\n",
       "    </tr>\n",
       "    <tr>\n",
       "      <th>...</th>\n",
       "      <td>...</td>\n",
       "      <td>...</td>\n",
       "      <td>...</td>\n",
       "      <td>...</td>\n",
       "      <td>...</td>\n",
       "    </tr>\n",
       "    <tr>\n",
       "      <th>9985</th>\n",
       "      <td>1</td>\n",
       "      <td>93.67</td>\n",
       "      <td>2239.0</td>\n",
       "      <td>8.84</td>\n",
       "      <td>11.07</td>\n",
       "    </tr>\n",
       "    <tr>\n",
       "      <th>9989</th>\n",
       "      <td>1</td>\n",
       "      <td>94.47</td>\n",
       "      <td>2328.0</td>\n",
       "      <td>7.07</td>\n",
       "      <td>19.48</td>\n",
       "    </tr>\n",
       "    <tr>\n",
       "      <th>9994</th>\n",
       "      <td>1</td>\n",
       "      <td>92.84</td>\n",
       "      <td>2377.0</td>\n",
       "      <td>10.48</td>\n",
       "      <td>18.77</td>\n",
       "    </tr>\n",
       "    <tr>\n",
       "      <th>9996</th>\n",
       "      <td>1</td>\n",
       "      <td>90.72</td>\n",
       "      <td>1928.0</td>\n",
       "      <td>14.10</td>\n",
       "      <td>6.08</td>\n",
       "    </tr>\n",
       "    <tr>\n",
       "      <th>9997</th>\n",
       "      <td>1</td>\n",
       "      <td>94.19</td>\n",
       "      <td>2694.0</td>\n",
       "      <td>0.98</td>\n",
       "      <td>14.95</td>\n",
       "    </tr>\n",
       "  </tbody>\n",
       "</table>\n",
       "<p>2716 rows × 5 columns</p>\n",
       "</div>"
      ],
      "text/plain": [
       "      InPlay   Velo  SpinRate  HorzBreak  InducedVertBreak\n",
       "12         1  94.67    2357.0      12.33             12.11\n",
       "13         1  91.51    2279.0       7.73             19.97\n",
       "16         1  96.74    1932.0      17.59              8.85\n",
       "20         1  95.89    2520.0       7.89             18.27\n",
       "24         1  96.17    2034.0      18.99              4.88\n",
       "...      ...    ...       ...        ...               ...\n",
       "9985       1  93.67    2239.0       8.84             11.07\n",
       "9989       1  94.47    2328.0       7.07             19.48\n",
       "9994       1  92.84    2377.0      10.48             18.77\n",
       "9996       1  90.72    1928.0      14.10              6.08\n",
       "9997       1  94.19    2694.0       0.98             14.95\n",
       "\n",
       "[2716 rows x 5 columns]"
      ]
     },
     "execution_count": 14,
     "metadata": {},
     "output_type": "execute_result"
    }
   ],
   "source": [
    "InPlay = inplaytraining.loc[inplaytraining['InPlay'] == 1]\n",
    "InPlay"
   ]
  },
  {
   "cell_type": "code",
   "execution_count": 15,
   "metadata": {},
   "outputs": [
    {
     "data": {
      "text/plain": [
       "2.6796759941089836"
      ]
     },
     "execution_count": 15,
     "metadata": {},
     "output_type": "execute_result"
    }
   ],
   "source": [
    "7278 / 2716"
   ]
  },
  {
   "cell_type": "code",
   "execution_count": 16,
   "metadata": {},
   "outputs": [
    {
     "data": {
      "text/html": [
       "<div>\n",
       "<style scoped>\n",
       "    .dataframe tbody tr th:only-of-type {\n",
       "        vertical-align: middle;\n",
       "    }\n",
       "\n",
       "    .dataframe tbody tr th {\n",
       "        vertical-align: top;\n",
       "    }\n",
       "\n",
       "    .dataframe thead th {\n",
       "        text-align: right;\n",
       "    }\n",
       "</style>\n",
       "<table border=\"1\" class=\"dataframe\">\n",
       "  <thead>\n",
       "    <tr style=\"text-align: right;\">\n",
       "      <th></th>\n",
       "      <th>InPlay</th>\n",
       "      <th>Velo</th>\n",
       "      <th>SpinRate</th>\n",
       "      <th>HorzBreak</th>\n",
       "      <th>InducedVertBreak</th>\n",
       "    </tr>\n",
       "  </thead>\n",
       "  <tbody>\n",
       "    <tr>\n",
       "      <th>0</th>\n",
       "      <td>0</td>\n",
       "      <td>95.33</td>\n",
       "      <td>2893.0</td>\n",
       "      <td>10.68</td>\n",
       "      <td>21.33</td>\n",
       "    </tr>\n",
       "    <tr>\n",
       "      <th>1</th>\n",
       "      <td>0</td>\n",
       "      <td>94.41</td>\n",
       "      <td>2038.0</td>\n",
       "      <td>17.13</td>\n",
       "      <td>5.77</td>\n",
       "    </tr>\n",
       "    <tr>\n",
       "      <th>2</th>\n",
       "      <td>0</td>\n",
       "      <td>90.48</td>\n",
       "      <td>2183.0</td>\n",
       "      <td>6.61</td>\n",
       "      <td>15.39</td>\n",
       "    </tr>\n",
       "    <tr>\n",
       "      <th>3</th>\n",
       "      <td>0</td>\n",
       "      <td>93.04</td>\n",
       "      <td>2279.0</td>\n",
       "      <td>9.33</td>\n",
       "      <td>14.57</td>\n",
       "    </tr>\n",
       "    <tr>\n",
       "      <th>4</th>\n",
       "      <td>0</td>\n",
       "      <td>95.17</td>\n",
       "      <td>2384.0</td>\n",
       "      <td>6.99</td>\n",
       "      <td>17.62</td>\n",
       "    </tr>\n",
       "    <tr>\n",
       "      <th>...</th>\n",
       "      <td>...</td>\n",
       "      <td>...</td>\n",
       "      <td>...</td>\n",
       "      <td>...</td>\n",
       "      <td>...</td>\n",
       "    </tr>\n",
       "    <tr>\n",
       "      <th>9985</th>\n",
       "      <td>1</td>\n",
       "      <td>93.67</td>\n",
       "      <td>2239.0</td>\n",
       "      <td>8.84</td>\n",
       "      <td>11.07</td>\n",
       "    </tr>\n",
       "    <tr>\n",
       "      <th>9989</th>\n",
       "      <td>1</td>\n",
       "      <td>94.47</td>\n",
       "      <td>2328.0</td>\n",
       "      <td>7.07</td>\n",
       "      <td>19.48</td>\n",
       "    </tr>\n",
       "    <tr>\n",
       "      <th>9994</th>\n",
       "      <td>1</td>\n",
       "      <td>92.84</td>\n",
       "      <td>2377.0</td>\n",
       "      <td>10.48</td>\n",
       "      <td>18.77</td>\n",
       "    </tr>\n",
       "    <tr>\n",
       "      <th>9996</th>\n",
       "      <td>1</td>\n",
       "      <td>90.72</td>\n",
       "      <td>1928.0</td>\n",
       "      <td>14.10</td>\n",
       "      <td>6.08</td>\n",
       "    </tr>\n",
       "    <tr>\n",
       "      <th>9997</th>\n",
       "      <td>1</td>\n",
       "      <td>94.19</td>\n",
       "      <td>2694.0</td>\n",
       "      <td>0.98</td>\n",
       "      <td>14.95</td>\n",
       "    </tr>\n",
       "  </tbody>\n",
       "</table>\n",
       "<p>12710 rows × 5 columns</p>\n",
       "</div>"
      ],
      "text/plain": [
       "      InPlay   Velo  SpinRate  HorzBreak  InducedVertBreak\n",
       "0          0  95.33    2893.0      10.68             21.33\n",
       "1          0  94.41    2038.0      17.13              5.77\n",
       "2          0  90.48    2183.0       6.61             15.39\n",
       "3          0  93.04    2279.0       9.33             14.57\n",
       "4          0  95.17    2384.0       6.99             17.62\n",
       "...      ...    ...       ...        ...               ...\n",
       "9985       1  93.67    2239.0       8.84             11.07\n",
       "9989       1  94.47    2328.0       7.07             19.48\n",
       "9994       1  92.84    2377.0      10.48             18.77\n",
       "9996       1  90.72    1928.0      14.10              6.08\n",
       "9997       1  94.19    2694.0       0.98             14.95\n",
       "\n",
       "[12710 rows x 5 columns]"
      ]
     },
     "execution_count": 16,
     "metadata": {},
     "output_type": "execute_result"
    }
   ],
   "source": [
    "frames = [inplaytraining, InPlay]\n",
    "inplaytraining = pd.concat(frames)\n",
    "inplaytraining"
   ]
  },
  {
   "cell_type": "markdown",
   "metadata": {},
   "source": [
    "# Correlation Plot"
   ]
  },
  {
   "cell_type": "markdown",
   "metadata": {},
   "source": [
    "I created the correlation plot below to determine if there are any highly correlated attributes. If there were, I would have removed any necessary attribute but as shown below, there was no need to remove any attributes."
   ]
  },
  {
   "cell_type": "code",
   "execution_count": 17,
   "metadata": {},
   "outputs": [
    {
     "data": {
      "text/html": [
       "<style type=\"text/css\">\n",
       "#T_ede2b_row0_col0, #T_ede2b_row1_col1, #T_ede2b_row2_col2, #T_ede2b_row3_col3, #T_ede2b_row4_col4 {\n",
       "  background-color: #b40426;\n",
       "  color: #f1f1f1;\n",
       "}\n",
       "#T_ede2b_row0_col1, #T_ede2b_row3_col2, #T_ede2b_row3_col4, #T_ede2b_row4_col0, #T_ede2b_row4_col3 {\n",
       "  background-color: #3b4cc0;\n",
       "  color: #f1f1f1;\n",
       "}\n",
       "#T_ede2b_row0_col2 {\n",
       "  background-color: #6788ee;\n",
       "  color: #f1f1f1;\n",
       "}\n",
       "#T_ede2b_row0_col3 {\n",
       "  background-color: #c5d6f2;\n",
       "  color: #000000;\n",
       "}\n",
       "#T_ede2b_row0_col4 {\n",
       "  background-color: #9ebeff;\n",
       "  color: #000000;\n",
       "}\n",
       "#T_ede2b_row1_col0 {\n",
       "  background-color: #465ecf;\n",
       "  color: #f1f1f1;\n",
       "}\n",
       "#T_ede2b_row1_col2 {\n",
       "  background-color: #d9dce1;\n",
       "  color: #000000;\n",
       "}\n",
       "#T_ede2b_row1_col3 {\n",
       "  background-color: #b6cefa;\n",
       "  color: #000000;\n",
       "}\n",
       "#T_ede2b_row1_col4 {\n",
       "  background-color: #cad8ef;\n",
       "  color: #000000;\n",
       "}\n",
       "#T_ede2b_row2_col0 {\n",
       "  background-color: #4358cb;\n",
       "  color: #f1f1f1;\n",
       "}\n",
       "#T_ede2b_row2_col1 {\n",
       "  background-color: #bed2f6;\n",
       "  color: #000000;\n",
       "}\n",
       "#T_ede2b_row2_col3 {\n",
       "  background-color: #7da0f9;\n",
       "  color: #f1f1f1;\n",
       "}\n",
       "#T_ede2b_row2_col4 {\n",
       "  background-color: #f4c6af;\n",
       "  color: #000000;\n",
       "}\n",
       "#T_ede2b_row3_col0 {\n",
       "  background-color: #6f92f3;\n",
       "  color: #f1f1f1;\n",
       "}\n",
       "#T_ede2b_row3_col1 {\n",
       "  background-color: #4c66d6;\n",
       "  color: #f1f1f1;\n",
       "}\n",
       "#T_ede2b_row4_col1 {\n",
       "  background-color: #6a8bef;\n",
       "  color: #f1f1f1;\n",
       "}\n",
       "#T_ede2b_row4_col2 {\n",
       "  background-color: #e1dad6;\n",
       "  color: #000000;\n",
       "}\n",
       "</style>\n",
       "<table id=\"T_ede2b_\">\n",
       "  <thead>\n",
       "    <tr>\n",
       "      <th class=\"blank level0\" >&nbsp;</th>\n",
       "      <th class=\"col_heading level0 col0\" >InPlay</th>\n",
       "      <th class=\"col_heading level0 col1\" >Velo</th>\n",
       "      <th class=\"col_heading level0 col2\" >SpinRate</th>\n",
       "      <th class=\"col_heading level0 col3\" >HorzBreak</th>\n",
       "      <th class=\"col_heading level0 col4\" >InducedVertBreak</th>\n",
       "    </tr>\n",
       "  </thead>\n",
       "  <tbody>\n",
       "    <tr>\n",
       "      <th id=\"T_ede2b_level0_row0\" class=\"row_heading level0 row0\" >InPlay</th>\n",
       "      <td id=\"T_ede2b_row0_col0\" class=\"data row0 col0\" >1.000000</td>\n",
       "      <td id=\"T_ede2b_row0_col1\" class=\"data row0 col1\" >-0.057530</td>\n",
       "      <td id=\"T_ede2b_row0_col2\" class=\"data row0 col2\" >-0.073508</td>\n",
       "      <td id=\"T_ede2b_row0_col3\" class=\"data row0 col3\" >0.080989</td>\n",
       "      <td id=\"T_ede2b_row0_col4\" class=\"data row0 col4\" >-0.103943</td>\n",
       "    </tr>\n",
       "    <tr>\n",
       "      <th id=\"T_ede2b_level0_row1\" class=\"row_heading level0 row1\" >Velo</th>\n",
       "      <td id=\"T_ede2b_row1_col0\" class=\"data row1 col0\" >-0.057530</td>\n",
       "      <td id=\"T_ede2b_row1_col1\" class=\"data row1 col1\" >1.000000</td>\n",
       "      <td id=\"T_ede2b_row1_col2\" class=\"data row1 col2\" >0.356024</td>\n",
       "      <td id=\"T_ede2b_row1_col3\" class=\"data row1 col3\" >0.005496</td>\n",
       "      <td id=\"T_ede2b_row1_col4\" class=\"data row1 col4\" >0.102138</td>\n",
       "    </tr>\n",
       "    <tr>\n",
       "      <th id=\"T_ede2b_level0_row2\" class=\"row_heading level0 row2\" >SpinRate</th>\n",
       "      <td id=\"T_ede2b_row2_col0\" class=\"data row2 col0\" >-0.073508</td>\n",
       "      <td id=\"T_ede2b_row2_col1\" class=\"data row2 col1\" >0.356024</td>\n",
       "      <td id=\"T_ede2b_row2_col2\" class=\"data row2 col2\" >1.000000</td>\n",
       "      <td id=\"T_ede2b_row2_col3\" class=\"data row2 col3\" >-0.249759</td>\n",
       "      <td id=\"T_ede2b_row2_col4\" class=\"data row2 col4\" >0.398054</td>\n",
       "    </tr>\n",
       "    <tr>\n",
       "      <th id=\"T_ede2b_level0_row3\" class=\"row_heading level0 row3\" >HorzBreak</th>\n",
       "      <td id=\"T_ede2b_row3_col0\" class=\"data row3 col0\" >0.080989</td>\n",
       "      <td id=\"T_ede2b_row3_col1\" class=\"data row3 col1\" >0.005496</td>\n",
       "      <td id=\"T_ede2b_row3_col2\" class=\"data row3 col2\" >-0.249759</td>\n",
       "      <td id=\"T_ede2b_row3_col3\" class=\"data row3 col3\" >1.000000</td>\n",
       "      <td id=\"T_ede2b_row3_col4\" class=\"data row3 col4\" >-0.575536</td>\n",
       "    </tr>\n",
       "    <tr>\n",
       "      <th id=\"T_ede2b_level0_row4\" class=\"row_heading level0 row4\" >InducedVertBreak</th>\n",
       "      <td id=\"T_ede2b_row4_col0\" class=\"data row4 col0\" >-0.103943</td>\n",
       "      <td id=\"T_ede2b_row4_col1\" class=\"data row4 col1\" >0.102138</td>\n",
       "      <td id=\"T_ede2b_row4_col2\" class=\"data row4 col2\" >0.398054</td>\n",
       "      <td id=\"T_ede2b_row4_col3\" class=\"data row4 col3\" >-0.575536</td>\n",
       "      <td id=\"T_ede2b_row4_col4\" class=\"data row4 col4\" >1.000000</td>\n",
       "    </tr>\n",
       "  </tbody>\n",
       "</table>\n"
      ],
      "text/plain": [
       "<pandas.io.formats.style.Styler at 0x29e14c855c8>"
      ]
     },
     "execution_count": 17,
     "metadata": {},
     "output_type": "execute_result"
    }
   ],
   "source": [
    "corr = inplaytraining.corr()\n",
    "corr.style.background_gradient(cmap='coolwarm')"
   ]
  },
  {
   "cell_type": "markdown",
   "metadata": {},
   "source": [
    "# Train Test Split"
   ]
  },
  {
   "cell_type": "markdown",
   "metadata": {},
   "source": [
    "I split the training data into a train and test set in preparation for the predictive model. "
   ]
  },
  {
   "cell_type": "code",
   "execution_count": 19,
   "metadata": {},
   "outputs": [],
   "source": [
    "Target = inplaytraining.InPlay"
   ]
  },
  {
   "cell_type": "code",
   "execution_count": 20,
   "metadata": {},
   "outputs": [
    {
     "data": {
      "text/plain": [
       "array([0, 1], dtype=int64)"
      ]
     },
     "execution_count": 20,
     "metadata": {},
     "output_type": "execute_result"
    }
   ],
   "source": [
    "Target.unique()"
   ]
  },
  {
   "cell_type": "code",
   "execution_count": 21,
   "metadata": {},
   "outputs": [],
   "source": [
    "Features = inplaytraining.drop('InPlay', axis=1)"
   ]
  },
  {
   "cell_type": "code",
   "execution_count": 22,
   "metadata": {},
   "outputs": [
    {
     "data": {
      "text/html": [
       "<div>\n",
       "<style scoped>\n",
       "    .dataframe tbody tr th:only-of-type {\n",
       "        vertical-align: middle;\n",
       "    }\n",
       "\n",
       "    .dataframe tbody tr th {\n",
       "        vertical-align: top;\n",
       "    }\n",
       "\n",
       "    .dataframe thead th {\n",
       "        text-align: right;\n",
       "    }\n",
       "</style>\n",
       "<table border=\"1\" class=\"dataframe\">\n",
       "  <thead>\n",
       "    <tr style=\"text-align: right;\">\n",
       "      <th></th>\n",
       "      <th>Velo</th>\n",
       "      <th>SpinRate</th>\n",
       "      <th>HorzBreak</th>\n",
       "      <th>InducedVertBreak</th>\n",
       "    </tr>\n",
       "  </thead>\n",
       "  <tbody>\n",
       "    <tr>\n",
       "      <th>0</th>\n",
       "      <td>95.33</td>\n",
       "      <td>2893.0</td>\n",
       "      <td>10.68</td>\n",
       "      <td>21.33</td>\n",
       "    </tr>\n",
       "    <tr>\n",
       "      <th>1</th>\n",
       "      <td>94.41</td>\n",
       "      <td>2038.0</td>\n",
       "      <td>17.13</td>\n",
       "      <td>5.77</td>\n",
       "    </tr>\n",
       "    <tr>\n",
       "      <th>2</th>\n",
       "      <td>90.48</td>\n",
       "      <td>2183.0</td>\n",
       "      <td>6.61</td>\n",
       "      <td>15.39</td>\n",
       "    </tr>\n",
       "    <tr>\n",
       "      <th>3</th>\n",
       "      <td>93.04</td>\n",
       "      <td>2279.0</td>\n",
       "      <td>9.33</td>\n",
       "      <td>14.57</td>\n",
       "    </tr>\n",
       "    <tr>\n",
       "      <th>4</th>\n",
       "      <td>95.17</td>\n",
       "      <td>2384.0</td>\n",
       "      <td>6.99</td>\n",
       "      <td>17.62</td>\n",
       "    </tr>\n",
       "    <tr>\n",
       "      <th>5</th>\n",
       "      <td>95.00</td>\n",
       "      <td>2580.0</td>\n",
       "      <td>7.16</td>\n",
       "      <td>16.07</td>\n",
       "    </tr>\n",
       "    <tr>\n",
       "      <th>6</th>\n",
       "      <td>97.94</td>\n",
       "      <td>2376.0</td>\n",
       "      <td>12.29</td>\n",
       "      <td>18.11</td>\n",
       "    </tr>\n",
       "    <tr>\n",
       "      <th>7</th>\n",
       "      <td>95.42</td>\n",
       "      <td>2103.0</td>\n",
       "      <td>7.98</td>\n",
       "      <td>10.98</td>\n",
       "    </tr>\n",
       "    <tr>\n",
       "      <th>8</th>\n",
       "      <td>94.12</td>\n",
       "      <td>2535.0</td>\n",
       "      <td>5.68</td>\n",
       "      <td>18.59</td>\n",
       "    </tr>\n",
       "    <tr>\n",
       "      <th>9</th>\n",
       "      <td>93.23</td>\n",
       "      <td>2242.0</td>\n",
       "      <td>4.10</td>\n",
       "      <td>16.95</td>\n",
       "    </tr>\n",
       "  </tbody>\n",
       "</table>\n",
       "</div>"
      ],
      "text/plain": [
       "    Velo  SpinRate  HorzBreak  InducedVertBreak\n",
       "0  95.33    2893.0      10.68             21.33\n",
       "1  94.41    2038.0      17.13              5.77\n",
       "2  90.48    2183.0       6.61             15.39\n",
       "3  93.04    2279.0       9.33             14.57\n",
       "4  95.17    2384.0       6.99             17.62\n",
       "5  95.00    2580.0       7.16             16.07\n",
       "6  97.94    2376.0      12.29             18.11\n",
       "7  95.42    2103.0       7.98             10.98\n",
       "8  94.12    2535.0       5.68             18.59\n",
       "9  93.23    2242.0       4.10             16.95"
      ]
     },
     "execution_count": 22,
     "metadata": {},
     "output_type": "execute_result"
    }
   ],
   "source": [
    "Features.head(10)"
   ]
  },
  {
   "cell_type": "code",
   "execution_count": 23,
   "metadata": {},
   "outputs": [
    {
     "name": "stdout",
     "output_type": "stream",
     "text": [
      "(11439, 4) (1271, 4) (11439,) (1271,)\n"
     ]
    }
   ],
   "source": [
    "x_train, x_test, y_train, y_test = train_test_split(Features, Target, train_size = 0.9, test_size = 0.1, random_state = 3957)\n",
    "print(x_train.shape, x_test.shape, y_train.shape, y_test.shape)"
   ]
  },
  {
   "cell_type": "markdown",
   "metadata": {},
   "source": [
    "# Cross Validation Score"
   ]
  },
  {
   "cell_type": "markdown",
   "metadata": {},
   "source": [
    "The below block of code uses a cross validation score to determine what would be the best model to use to predict the chances of a ball being put in play. I appended five models including; XGBoost, Logistic Regression, Random Forest Classifier and Regression and Decision Tree. The code then shows which model had the highest score showing which is best to use. In this case the Random Forest Classification had the highest score thus making it the best model choice. "
   ]
  },
  {
   "cell_type": "code",
   "execution_count": 24,
   "metadata": {},
   "outputs": [
    {
     "name": "stdout",
     "output_type": "stream",
     "text": [
      "===================================================\n",
      "XGB\n",
      "===================================================\n",
      "LogisticRegression\n",
      "===================================================\n",
      "RandomForestClassification\n",
      "===================================================\n",
      "RandomForestRegression\n",
      "===================================================\n",
      "DecisionTree\n",
      "===========================================\n",
      "XGB 0.5777606248146256\n",
      "LogisticRegression 0.5694553970297302\n",
      "RandomForestClassification 0.8015571442112762\n",
      "RandomForestRegression 0.3620528720601198\n",
      "DecisionTree 0.7316214557196192\n"
     ]
    }
   ],
   "source": [
    "models = []\n",
    "\n",
    "models.append((\"XGB\", xgb.XGBClassifier(max_depth = 2, n_estimators = 4, n_jobs = -1)))\n",
    "models.append((\"LogisticRegression\", LogisticRegression(max_iter=100)))\n",
    "models.append((\"RandomForestClassification\", RandomForestClassifier()))\n",
    "models.append((\"RandomForestRegression\", RandomForestRegressor()))\n",
    "models.append((\"DecisionTree\", DecisionTreeClassifier()))\n",
    "\n",
    "results = []\n",
    "names = []\n",
    "\n",
    "for name,model in models:\n",
    "    print(\"===================================================\")\n",
    "    print(name)\n",
    "    result = cross_val_score(model, x_train, y_train)\n",
    "    names.append(name)\n",
    "    results.append(result)\n",
    "    \n",
    "print(\"===========================================\")\n",
    "\n",
    "for i in range(len(names)):\n",
    "    print(names[i],results[i].mean())\n",
    "    \n"
   ]
  },
  {
   "cell_type": "markdown",
   "metadata": {},
   "source": [
    "# Tuned Random Forest Classification Model"
   ]
  },
  {
   "cell_type": "markdown",
   "metadata": {},
   "source": [
    "I tuned the Random Forest Classification model to maximize accruacy when predicting batted balls in play. I then predicted the probability of a '0' and '1' InPlay outcomes using the features test set and random forest model."
   ]
  },
  {
   "cell_type": "code",
   "execution_count": 25,
   "metadata": {},
   "outputs": [],
   "source": [
    "model = RandomForestClassifier(n_estimators = 50, max_depth = None, random_state = 100)"
   ]
  },
  {
   "cell_type": "code",
   "execution_count": 26,
   "metadata": {},
   "outputs": [
    {
     "data": {
      "text/plain": [
       "RandomForestClassifier(n_estimators=50, random_state=100)"
      ]
     },
     "execution_count": 26,
     "metadata": {},
     "output_type": "execute_result"
    }
   ],
   "source": [
    "model.fit(x_train, y_train)"
   ]
  },
  {
   "cell_type": "markdown",
   "metadata": {},
   "source": [
    "# Prediction and Sanity Checks"
   ]
  },
  {
   "cell_type": "markdown",
   "metadata": {},
   "source": [
    "I used the model created above and predicted the probability of a 0 and 1 outcome. The predictions were then placed into a data frame with the columns of Prob_0 and Prob_1 showing the probability of each outcome respectively. I then compared the sum of InPlay actuals ('y_test') and Prob_1 as a sanity check. If the sums are close in output, then I can be confident in the accuracy of the model but if the sums are way off, then the model needs to be reassessed and improved. In this case the sums are close in output, so the model has passed this sanity check. The next sanity check I ran was the accuracy score. The score was 0.885 or the model predicted on an 88.5% accuracy rate thus showing the model passing on the second sanity check. The last check is the Area Under the Curve (AUC) score which is 0.952 or 95.2% showing that the model performed well predicting outputs of 0's and 1's compared to the actuals. \n",
    "\n",
    "The Random Forest model created passed all three sanity checks, thus allowing me to be confident in the model output."
   ]
  },
  {
   "cell_type": "code",
   "execution_count": 27,
   "metadata": {},
   "outputs": [
    {
     "data": {
      "text/plain": [
       "array([[0.18, 0.82],\n",
       "       [0.2 , 0.8 ],\n",
       "       [0.82, 0.18],\n",
       "       ...,\n",
       "       [0.34, 0.66],\n",
       "       [0.22, 0.78],\n",
       "       [0.14, 0.86]])"
      ]
     },
     "execution_count": 27,
     "metadata": {},
     "output_type": "execute_result"
    }
   ],
   "source": [
    "pred = model.predict(x_test)\n",
    "prob = model.predict_proba(x_test)\n",
    "pred\n",
    "prob"
   ]
  },
  {
   "cell_type": "code",
   "execution_count": 28,
   "metadata": {},
   "outputs": [],
   "source": [
    "prob_model = pd.DataFrame(prob, columns = ['Prob_0', 'Prob_1'])"
   ]
  },
  {
   "cell_type": "code",
   "execution_count": 29,
   "metadata": {},
   "outputs": [
    {
     "data": {
      "text/plain": [
       "554"
      ]
     },
     "execution_count": 29,
     "metadata": {},
     "output_type": "execute_result"
    }
   ],
   "source": [
    "y_test.sum()"
   ]
  },
  {
   "cell_type": "code",
   "execution_count": 30,
   "metadata": {},
   "outputs": [
    {
     "data": {
      "text/plain": [
       "656.1399999999999"
      ]
     },
     "execution_count": 30,
     "metadata": {},
     "output_type": "execute_result"
    }
   ],
   "source": [
    "prob_model['Prob_1'].sum()"
   ]
  },
  {
   "cell_type": "code",
   "execution_count": 31,
   "metadata": {},
   "outputs": [
    {
     "data": {
      "text/plain": [
       "0.8851298190401259"
      ]
     },
     "execution_count": 31,
     "metadata": {},
     "output_type": "execute_result"
    }
   ],
   "source": [
    "acc_score = accuracy_score(y_test, pred)\n",
    "acc_score"
   ]
  },
  {
   "cell_type": "code",
   "execution_count": 32,
   "metadata": {},
   "outputs": [
    {
     "data": {
      "text/plain": [
       "0.95206410585623"
      ]
     },
     "execution_count": 32,
     "metadata": {},
     "output_type": "execute_result"
    }
   ],
   "source": [
    "roc_auc_score = roc_auc_score(y_test, prob_model['Prob_1'])\n",
    "roc_auc_score"
   ]
  },
  {
   "cell_type": "markdown",
   "metadata": {},
   "source": [
    "# ROC Curve"
   ]
  },
  {
   "cell_type": "markdown",
   "metadata": {},
   "source": [
    "The below chart shows the AUC score. The chart shows how well the model did at predicting the outcomes of 0's and 1's within it generating a curve going from (0,0), moving to the top left and gradually curving to (1,1)."
   ]
  },
  {
   "cell_type": "code",
   "execution_count": 33,
   "metadata": {},
   "outputs": [
    {
     "data": {
      "image/png": "[encoded data removed]",
      "text/plain": [
       "<Figure size 1000x1000 with 1 Axes>"
      ]
     },
     "metadata": {},
     "output_type": "display_data"
    }
   ],
   "source": [
    "false_positive_rate1, true_positive_rate1, threshold1 = roc_curve(y_test, prob_model['Prob_1'])\n",
    "\n",
    "plt.subplots(1, figsize=(10,10))\n",
    "plt.title('Receiver Operating Characteristic - Random Forest')\n",
    "plt.plot(false_positive_rate1, true_positive_rate1)\n",
    "plt.plot([0, 1], ls=\"--\")\n",
    "plt.plot([0, 0], [1, 0] , c=\".7\"), plt.plot([1, 1] , c=\".7\")\n",
    "plt.ylabel('True Positive Rate')\n",
    "plt.xlabel('False Positive Rate')\n",
    "plt.show()"
   ]
  },
  {
   "cell_type": "code",
   "execution_count": 50,
   "metadata": {},
   "outputs": [],
   "source": [
    "importances = gbm.feature_importances_\n",
    "sorted_indices = np.argsort(importances)[::-1]"
   ]
  },
  {
   "cell_type": "markdown",
   "metadata": {},
   "source": [
    "# Feature Importance Chart"
   ]
  },
  {
   "cell_type": "markdown",
   "metadata": {},
   "source": [
    "The below chart shows the importance of each feature within the model and how it valued each variable when learning to create predictions. Interestingly enough, it shows that all variables have a near identical importance to the model learning what constitutes an output of a 0 and 1. This would mean that this model shows that there isn't one feature that a pitcher should focus on to prevent batted balls in play. "
   ]
  },
  {
   "cell_type": "code",
   "execution_count": 53,
   "metadata": {},
   "outputs": [
    {
     "data": {
      "text/plain": [
       "Text(0, 0.5, 'Pitch Metrics')"
      ]
     },
     "execution_count": 53,
     "metadata": {},
     "output_type": "execute_result"
    },
    {
     "data": {
      "image/png": "[encoded data removed]",
      "text/plain": [
       "<Figure size 640x480 with 1 Axes>"
      ]
     },
     "metadata": {},
     "output_type": "display_data"
    }
   ],
   "source": [
    "plt.barh(x_train.columns, importances[sorted_indices])\n",
    "plt.xlabel(\"Random Forest Feature Importance\")\n",
    "plt.title('Feature Importance')\n",
    "plt.ylabel('Pitch Metrics')"
   ]
  },
  {
   "cell_type": "markdown",
   "metadata": {},
   "source": [
    "# Check Summary, Structure and NA Values in Deployment Data"
   ]
  },
  {
   "cell_type": "markdown",
   "metadata": {},
   "source": [
    "I checked the structure, summary and removed the NA values from the deployment data much like I did for the training data."
   ]
  },
  {
   "cell_type": "code",
   "execution_count": 56,
   "metadata": {},
   "outputs": [
    {
     "data": {
      "text/html": [
       "<div>\n",
       "<style scoped>\n",
       "    .dataframe tbody tr th:only-of-type {\n",
       "        vertical-align: middle;\n",
       "    }\n",
       "\n",
       "    .dataframe tbody tr th {\n",
       "        vertical-align: top;\n",
       "    }\n",
       "\n",
       "    .dataframe thead th {\n",
       "        text-align: right;\n",
       "    }\n",
       "</style>\n",
       "<table border=\"1\" class=\"dataframe\">\n",
       "  <thead>\n",
       "    <tr style=\"text-align: right;\">\n",
       "      <th></th>\n",
       "      <th>Velo</th>\n",
       "      <th>SpinRate</th>\n",
       "      <th>HorzBreak</th>\n",
       "      <th>InducedVertBreak</th>\n",
       "    </tr>\n",
       "  </thead>\n",
       "  <tbody>\n",
       "    <tr>\n",
       "      <th>0</th>\n",
       "      <td>94.72</td>\n",
       "      <td>2375.0</td>\n",
       "      <td>3.10</td>\n",
       "      <td>18.15</td>\n",
       "    </tr>\n",
       "    <tr>\n",
       "      <th>1</th>\n",
       "      <td>95.25</td>\n",
       "      <td>2033.0</td>\n",
       "      <td>11.26</td>\n",
       "      <td>14.50</td>\n",
       "    </tr>\n",
       "    <tr>\n",
       "      <th>2</th>\n",
       "      <td>92.61</td>\n",
       "      <td>2389.0</td>\n",
       "      <td>11.00</td>\n",
       "      <td>21.93</td>\n",
       "    </tr>\n",
       "    <tr>\n",
       "      <th>3</th>\n",
       "      <td>94.94</td>\n",
       "      <td>2360.0</td>\n",
       "      <td>6.84</td>\n",
       "      <td>18.11</td>\n",
       "    </tr>\n",
       "    <tr>\n",
       "      <th>4</th>\n",
       "      <td>97.42</td>\n",
       "      <td>2214.0</td>\n",
       "      <td>16.70</td>\n",
       "      <td>13.38</td>\n",
       "    </tr>\n",
       "    <tr>\n",
       "      <th>5</th>\n",
       "      <td>95.98</td>\n",
       "      <td>2495.0</td>\n",
       "      <td>11.25</td>\n",
       "      <td>17.12</td>\n",
       "    </tr>\n",
       "    <tr>\n",
       "      <th>6</th>\n",
       "      <td>94.88</td>\n",
       "      <td>1998.0</td>\n",
       "      <td>15.13</td>\n",
       "      <td>15.22</td>\n",
       "    </tr>\n",
       "    <tr>\n",
       "      <th>7</th>\n",
       "      <td>92.73</td>\n",
       "      <td>2049.0</td>\n",
       "      <td>1.55</td>\n",
       "      <td>18.47</td>\n",
       "    </tr>\n",
       "    <tr>\n",
       "      <th>8</th>\n",
       "      <td>92.39</td>\n",
       "      <td>1955.0</td>\n",
       "      <td>18.15</td>\n",
       "      <td>7.25</td>\n",
       "    </tr>\n",
       "    <tr>\n",
       "      <th>9</th>\n",
       "      <td>95.77</td>\n",
       "      <td>1976.0</td>\n",
       "      <td>10.04</td>\n",
       "      <td>14.56</td>\n",
       "    </tr>\n",
       "  </tbody>\n",
       "</table>\n",
       "</div>"
      ],
      "text/plain": [
       "    Velo  SpinRate  HorzBreak  InducedVertBreak\n",
       "0  94.72    2375.0       3.10             18.15\n",
       "1  95.25    2033.0      11.26             14.50\n",
       "2  92.61    2389.0      11.00             21.93\n",
       "3  94.94    2360.0       6.84             18.11\n",
       "4  97.42    2214.0      16.70             13.38\n",
       "5  95.98    2495.0      11.25             17.12\n",
       "6  94.88    1998.0      15.13             15.22\n",
       "7  92.73    2049.0       1.55             18.47\n",
       "8  92.39    1955.0      18.15              7.25\n",
       "9  95.77    1976.0      10.04             14.56"
      ]
     },
     "execution_count": 56,
     "metadata": {},
     "output_type": "execute_result"
    }
   ],
   "source": [
    "inplaydeploy.head(10)"
   ]
  },
  {
   "cell_type": "code",
   "execution_count": 57,
   "metadata": {},
   "outputs": [
    {
     "name": "stdout",
     "output_type": "stream",
     "text": [
      "<class 'pandas.core.frame.DataFrame'>\n",
      "RangeIndex: 10000 entries, 0 to 9999\n",
      "Data columns (total 4 columns):\n",
      " #   Column            Non-Null Count  Dtype  \n",
      "---  ------            --------------  -----  \n",
      " 0   Velo              10000 non-null  float64\n",
      " 1   SpinRate          9987 non-null   float64\n",
      " 2   HorzBreak         10000 non-null  float64\n",
      " 3   InducedVertBreak  10000 non-null  float64\n",
      "dtypes: float64(4)\n",
      "memory usage: 312.6 KB\n"
     ]
    }
   ],
   "source": [
    "inplaydeploy.info()"
   ]
  },
  {
   "cell_type": "code",
   "execution_count": 59,
   "metadata": {},
   "outputs": [
    {
     "data": {
      "text/plain": [
       "Velo                 0\n",
       "SpinRate            13\n",
       "HorzBreak            0\n",
       "InducedVertBreak     0\n",
       "dtype: int64"
      ]
     },
     "execution_count": 59,
     "metadata": {},
     "output_type": "execute_result"
    }
   ],
   "source": [
    "inplaydeploy.isna().sum()"
   ]
  },
  {
   "cell_type": "code",
   "execution_count": 61,
   "metadata": {},
   "outputs": [],
   "source": [
    "inplaydeploy = inplaydeploy.dropna()"
   ]
  },
  {
   "cell_type": "code",
   "execution_count": 62,
   "metadata": {},
   "outputs": [
    {
     "data": {
      "text/plain": [
       "Velo                0\n",
       "SpinRate            0\n",
       "HorzBreak           0\n",
       "InducedVertBreak    0\n",
       "dtype: int64"
      ]
     },
     "execution_count": 62,
     "metadata": {},
     "output_type": "execute_result"
    }
   ],
   "source": [
    "inplaydeploy.isna().sum()"
   ]
  },
  {
   "cell_type": "code",
   "execution_count": 66,
   "metadata": {},
   "outputs": [
    {
     "data": {
      "text/plain": [
       "9987"
      ]
     },
     "execution_count": 66,
     "metadata": {},
     "output_type": "execute_result"
    }
   ],
   "source": [
    "len(inplaydeploy)"
   ]
  },
  {
   "cell_type": "markdown",
   "metadata": {},
   "source": [
    "# Predict Values Using Model on Deployment Data"
   ]
  },
  {
   "cell_type": "markdown",
   "metadata": {},
   "source": [
    "I used the created model to predict batted ball in play outcomes onto the deployment data set and put them into a data fram 'prob_deploy'. I then checked the length of 'prob_deploy' to see if it matches the length of the deployment data set as a sanity check. The length matches thus the sanity check passes and can be merged together using the 'Prob_1' column showing the probability of a 1 occuring. "
   ]
  },
  {
   "cell_type": "code",
   "execution_count": 72,
   "metadata": {},
   "outputs": [
    {
     "data": {
      "text/plain": [
       "array([[0.72, 0.28],\n",
       "       [0.68, 0.32],\n",
       "       [0.82, 0.18],\n",
       "       ...,\n",
       "       [0.58, 0.42],\n",
       "       [0.82, 0.18],\n",
       "       [0.82, 0.18]])"
      ]
     },
     "execution_count": 72,
     "metadata": {},
     "output_type": "execute_result"
    }
   ],
   "source": [
    "prob_deploy = model.predict_proba(inplaydeploy)\n",
    "prob_deploy"
   ]
  },
  {
   "cell_type": "code",
   "execution_count": 73,
   "metadata": {},
   "outputs": [],
   "source": [
    "prob_deploy = pd.DataFrame(prob_deploy, columns = ['Prob_0', 'Prob_1'])"
   ]
  },
  {
   "cell_type": "code",
   "execution_count": 74,
   "metadata": {},
   "outputs": [
    {
     "data": {
      "text/plain": [
       "9987"
      ]
     },
     "execution_count": 74,
     "metadata": {},
     "output_type": "execute_result"
    }
   ],
   "source": [
    "len(prob_deploy)"
   ]
  },
  {
   "cell_type": "code",
   "execution_count": 76,
   "metadata": {},
   "outputs": [
    {
     "data": {
      "text/html": [
       "<div>\n",
       "<style scoped>\n",
       "    .dataframe tbody tr th:only-of-type {\n",
       "        vertical-align: middle;\n",
       "    }\n",
       "\n",
       "    .dataframe tbody tr th {\n",
       "        vertical-align: top;\n",
       "    }\n",
       "\n",
       "    .dataframe thead th {\n",
       "        text-align: right;\n",
       "    }\n",
       "</style>\n",
       "<table border=\"1\" class=\"dataframe\">\n",
       "  <thead>\n",
       "    <tr style=\"text-align: right;\">\n",
       "      <th></th>\n",
       "      <th>Velo</th>\n",
       "      <th>SpinRate</th>\n",
       "      <th>HorzBreak</th>\n",
       "      <th>InducedVertBreak</th>\n",
       "      <th>Prob_1</th>\n",
       "    </tr>\n",
       "  </thead>\n",
       "  <tbody>\n",
       "    <tr>\n",
       "      <th>0</th>\n",
       "      <td>94.72</td>\n",
       "      <td>2375.0</td>\n",
       "      <td>3.10</td>\n",
       "      <td>18.15</td>\n",
       "      <td>0.28</td>\n",
       "    </tr>\n",
       "    <tr>\n",
       "      <th>1</th>\n",
       "      <td>95.25</td>\n",
       "      <td>2033.0</td>\n",
       "      <td>11.26</td>\n",
       "      <td>14.50</td>\n",
       "      <td>0.32</td>\n",
       "    </tr>\n",
       "    <tr>\n",
       "      <th>2</th>\n",
       "      <td>92.61</td>\n",
       "      <td>2389.0</td>\n",
       "      <td>11.00</td>\n",
       "      <td>21.93</td>\n",
       "      <td>0.18</td>\n",
       "    </tr>\n",
       "    <tr>\n",
       "      <th>3</th>\n",
       "      <td>94.94</td>\n",
       "      <td>2360.0</td>\n",
       "      <td>6.84</td>\n",
       "      <td>18.11</td>\n",
       "      <td>0.48</td>\n",
       "    </tr>\n",
       "    <tr>\n",
       "      <th>4</th>\n",
       "      <td>97.42</td>\n",
       "      <td>2214.0</td>\n",
       "      <td>16.70</td>\n",
       "      <td>13.38</td>\n",
       "      <td>0.24</td>\n",
       "    </tr>\n",
       "    <tr>\n",
       "      <th>5</th>\n",
       "      <td>95.98</td>\n",
       "      <td>2495.0</td>\n",
       "      <td>11.25</td>\n",
       "      <td>17.12</td>\n",
       "      <td>0.44</td>\n",
       "    </tr>\n",
       "    <tr>\n",
       "      <th>6</th>\n",
       "      <td>94.88</td>\n",
       "      <td>1998.0</td>\n",
       "      <td>15.13</td>\n",
       "      <td>15.22</td>\n",
       "      <td>0.24</td>\n",
       "    </tr>\n",
       "    <tr>\n",
       "      <th>7</th>\n",
       "      <td>92.73</td>\n",
       "      <td>2049.0</td>\n",
       "      <td>1.55</td>\n",
       "      <td>18.47</td>\n",
       "      <td>0.44</td>\n",
       "    </tr>\n",
       "    <tr>\n",
       "      <th>8</th>\n",
       "      <td>92.39</td>\n",
       "      <td>1955.0</td>\n",
       "      <td>18.15</td>\n",
       "      <td>7.25</td>\n",
       "      <td>0.18</td>\n",
       "    </tr>\n",
       "    <tr>\n",
       "      <th>9</th>\n",
       "      <td>95.77</td>\n",
       "      <td>1976.0</td>\n",
       "      <td>10.04</td>\n",
       "      <td>14.56</td>\n",
       "      <td>0.08</td>\n",
       "    </tr>\n",
       "    <tr>\n",
       "      <th>10</th>\n",
       "      <td>93.27</td>\n",
       "      <td>2076.0</td>\n",
       "      <td>11.45</td>\n",
       "      <td>11.50</td>\n",
       "      <td>0.24</td>\n",
       "    </tr>\n",
       "    <tr>\n",
       "      <th>11</th>\n",
       "      <td>91.95</td>\n",
       "      <td>2465.0</td>\n",
       "      <td>9.12</td>\n",
       "      <td>21.00</td>\n",
       "      <td>0.32</td>\n",
       "    </tr>\n",
       "    <tr>\n",
       "      <th>12</th>\n",
       "      <td>92.24</td>\n",
       "      <td>2391.0</td>\n",
       "      <td>0.56</td>\n",
       "      <td>13.23</td>\n",
       "      <td>0.32</td>\n",
       "    </tr>\n",
       "    <tr>\n",
       "      <th>13</th>\n",
       "      <td>93.10</td>\n",
       "      <td>2130.0</td>\n",
       "      <td>3.97</td>\n",
       "      <td>16.75</td>\n",
       "      <td>0.28</td>\n",
       "    </tr>\n",
       "    <tr>\n",
       "      <th>14</th>\n",
       "      <td>95.38</td>\n",
       "      <td>2262.0</td>\n",
       "      <td>7.44</td>\n",
       "      <td>17.64</td>\n",
       "      <td>0.46</td>\n",
       "    </tr>\n",
       "    <tr>\n",
       "      <th>15</th>\n",
       "      <td>94.54</td>\n",
       "      <td>2116.0</td>\n",
       "      <td>13.30</td>\n",
       "      <td>8.16</td>\n",
       "      <td>0.58</td>\n",
       "    </tr>\n",
       "    <tr>\n",
       "      <th>16</th>\n",
       "      <td>94.22</td>\n",
       "      <td>2325.0</td>\n",
       "      <td>8.85</td>\n",
       "      <td>17.63</td>\n",
       "      <td>0.34</td>\n",
       "    </tr>\n",
       "    <tr>\n",
       "      <th>17</th>\n",
       "      <td>95.14</td>\n",
       "      <td>2451.0</td>\n",
       "      <td>5.68</td>\n",
       "      <td>18.71</td>\n",
       "      <td>0.24</td>\n",
       "    </tr>\n",
       "    <tr>\n",
       "      <th>18</th>\n",
       "      <td>91.91</td>\n",
       "      <td>2073.0</td>\n",
       "      <td>13.77</td>\n",
       "      <td>14.65</td>\n",
       "      <td>0.66</td>\n",
       "    </tr>\n",
       "    <tr>\n",
       "      <th>19</th>\n",
       "      <td>94.42</td>\n",
       "      <td>2232.0</td>\n",
       "      <td>8.61</td>\n",
       "      <td>19.04</td>\n",
       "      <td>0.40</td>\n",
       "    </tr>\n",
       "    <tr>\n",
       "      <th>20</th>\n",
       "      <td>92.06</td>\n",
       "      <td>2184.0</td>\n",
       "      <td>-3.89</td>\n",
       "      <td>4.09</td>\n",
       "      <td>0.52</td>\n",
       "    </tr>\n",
       "    <tr>\n",
       "      <th>21</th>\n",
       "      <td>94.99</td>\n",
       "      <td>2317.0</td>\n",
       "      <td>6.05</td>\n",
       "      <td>13.93</td>\n",
       "      <td>0.20</td>\n",
       "    </tr>\n",
       "    <tr>\n",
       "      <th>22</th>\n",
       "      <td>94.80</td>\n",
       "      <td>3009.0</td>\n",
       "      <td>10.06</td>\n",
       "      <td>17.07</td>\n",
       "      <td>0.24</td>\n",
       "    </tr>\n",
       "    <tr>\n",
       "      <th>23</th>\n",
       "      <td>91.25</td>\n",
       "      <td>2077.0</td>\n",
       "      <td>13.02</td>\n",
       "      <td>13.67</td>\n",
       "      <td>0.46</td>\n",
       "    </tr>\n",
       "    <tr>\n",
       "      <th>24</th>\n",
       "      <td>97.60</td>\n",
       "      <td>2080.0</td>\n",
       "      <td>16.79</td>\n",
       "      <td>-0.58</td>\n",
       "      <td>0.32</td>\n",
       "    </tr>\n",
       "    <tr>\n",
       "      <th>25</th>\n",
       "      <td>95.78</td>\n",
       "      <td>2314.0</td>\n",
       "      <td>13.22</td>\n",
       "      <td>16.79</td>\n",
       "      <td>0.18</td>\n",
       "    </tr>\n",
       "    <tr>\n",
       "      <th>26</th>\n",
       "      <td>95.58</td>\n",
       "      <td>2253.0</td>\n",
       "      <td>5.07</td>\n",
       "      <td>17.30</td>\n",
       "      <td>0.36</td>\n",
       "    </tr>\n",
       "    <tr>\n",
       "      <th>27</th>\n",
       "      <td>92.63</td>\n",
       "      <td>2334.0</td>\n",
       "      <td>1.44</td>\n",
       "      <td>17.63</td>\n",
       "      <td>0.10</td>\n",
       "    </tr>\n",
       "    <tr>\n",
       "      <th>28</th>\n",
       "      <td>89.90</td>\n",
       "      <td>2191.0</td>\n",
       "      <td>17.65</td>\n",
       "      <td>9.55</td>\n",
       "      <td>0.42</td>\n",
       "    </tr>\n",
       "    <tr>\n",
       "      <th>29</th>\n",
       "      <td>96.23</td>\n",
       "      <td>2469.0</td>\n",
       "      <td>6.28</td>\n",
       "      <td>20.41</td>\n",
       "      <td>0.10</td>\n",
       "    </tr>\n",
       "  </tbody>\n",
       "</table>\n",
       "</div>"
      ],
      "text/plain": [
       "     Velo  SpinRate  HorzBreak  InducedVertBreak  Prob_1\n",
       "0   94.72    2375.0       3.10             18.15    0.28\n",
       "1   95.25    2033.0      11.26             14.50    0.32\n",
       "2   92.61    2389.0      11.00             21.93    0.18\n",
       "3   94.94    2360.0       6.84             18.11    0.48\n",
       "4   97.42    2214.0      16.70             13.38    0.24\n",
       "5   95.98    2495.0      11.25             17.12    0.44\n",
       "6   94.88    1998.0      15.13             15.22    0.24\n",
       "7   92.73    2049.0       1.55             18.47    0.44\n",
       "8   92.39    1955.0      18.15              7.25    0.18\n",
       "9   95.77    1976.0      10.04             14.56    0.08\n",
       "10  93.27    2076.0      11.45             11.50    0.24\n",
       "11  91.95    2465.0       9.12             21.00    0.32\n",
       "12  92.24    2391.0       0.56             13.23    0.32\n",
       "13  93.10    2130.0       3.97             16.75    0.28\n",
       "14  95.38    2262.0       7.44             17.64    0.46\n",
       "15  94.54    2116.0      13.30              8.16    0.58\n",
       "16  94.22    2325.0       8.85             17.63    0.34\n",
       "17  95.14    2451.0       5.68             18.71    0.24\n",
       "18  91.91    2073.0      13.77             14.65    0.66\n",
       "19  94.42    2232.0       8.61             19.04    0.40\n",
       "20  92.06    2184.0      -3.89              4.09    0.52\n",
       "21  94.99    2317.0       6.05             13.93    0.20\n",
       "22  94.80    3009.0      10.06             17.07    0.24\n",
       "23  91.25    2077.0      13.02             13.67    0.46\n",
       "24  97.60    2080.0      16.79             -0.58    0.32\n",
       "25  95.78    2314.0      13.22             16.79    0.18\n",
       "26  95.58    2253.0       5.07             17.30    0.36\n",
       "27  92.63    2334.0       1.44             17.63    0.10\n",
       "28  89.90    2191.0      17.65              9.55    0.42\n",
       "29  96.23    2469.0       6.28             20.41    0.10"
      ]
     },
     "execution_count": 76,
     "metadata": {},
     "output_type": "execute_result"
    }
   ],
   "source": [
    "final_df = pd.merge(inplaydeploy, prob_deploy['Prob_1'], left_index=True, right_index=True, how='left')\n",
    "final_df.head(30)"
   ]
  },
  {
   "cell_type": "code",
   "execution_count": 77,
   "metadata": {},
   "outputs": [],
   "source": [
    "final_df.to_csv(r'C:\\Users\\cboat\\OneDrive\\Documents\\In Play Prediction\\InPlayPredictionScores.csv')"
   ]
  },
  {
   "cell_type": "markdown",
   "metadata": {},
   "source": [
    "# Next Steps"
   ]
  },
  {
   "cell_type": "markdown",
   "metadata": {},
   "source": [
    "The next steps I would take would be to find other variable such as; the location of the pitch, effective velocity, spin axis etc. and look to add them into the model. The more potential variables being introduced to the model would allow it to relearn what is best to predict the probability of balls in play as well as potentially change the feature importance scores. A change in the importance scores would give me a better idea of what pitchers should focus on to limit balls in play. There would be some intricate data cleaning needed as a pitch thrown two feet off the plate would result in a higher chance of it not being put in play, but that pitch results in a negative outcome of a ball. That being said, more variables would allow for a more intricate model and potentially a clearer understanding of what negates a batter's ability of putting a ball in play."
   ]
  }
 ],
 "metadata": {
  "kernelspec": {
   "display_name": "Python 3 (ipykernel)",
   "language": "python",
   "name": "python3"
  },
  "language_info": {
   "codemirror_mode": {
    "name": "ipython",
    "version": 3
   },
   "file_extension": ".py",
   "mimetype": "text/x-python",
   "name": "python",
   "nbconvert_exporter": "python",
   "pygments_lexer": "ipython3",
   "version": "3.7.15"
  }
 },
 "nbformat": 4,
 "nbformat_minor": 4
}
